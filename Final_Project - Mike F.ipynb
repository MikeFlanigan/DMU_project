{
 "cells": [
  {
   "cell_type": "code",
   "execution_count": 14,
   "metadata": {},
   "outputs": [],
   "source": [
    "using POMDPs\n",
    "using POMDPModels\n",
    "using POMDPSimulators\n",
    "using SARSOP\n",
    "using QMDP\n",
    "using BasicPOMCP\n",
    "using DMUStudent\n",
    "using QuickPOMDPs"
   ]
  },
  {
   "cell_type": "markdown",
   "metadata": {},
   "source": [
    "# 1D Discrete Representation Experiment\n",
    "\n",
    "Frame the camera search problem in a 1D Discrete world to work out the kinks of a Julia POMDPs implementation."
   ]
  },
  {
   "cell_type": "code",
   "execution_count": 22,
   "metadata": {},
   "outputs": [],
   "source": [
    "struct GroundWatchState\n",
    "    cam::Int8\n",
    "    target::Int8\n",
    "end"
   ]
  },
  {
   "cell_type": "code",
   "execution_count": 25,
   "metadata": {},
   "outputs": [
    {
     "name": "stdout",
     "output_type": "stream",
     "text": [
      "2\n",
      "2\n"
     ]
    }
   ],
   "source": [
    "s = GroundWatchState(2,2)\n",
    "println(s.cam)\n",
    "println(s.target)"
   ]
  },
  {
   "cell_type": "code",
   "execution_count": 19,
   "metadata": {},
   "outputs": [
    {
     "data": {
      "text/plain": [
       "1-element Array{Symbol,1}:\n",
       " :Int8"
      ]
     },
     "execution_count": 19,
     "metadata": {},
     "output_type": "execute_result"
    }
   ],
   "source": [
    "S = GroundWatchState(2,7)\n",
    "A = [:left, :stay, :right]\n",
    "O = [:Int8]"
   ]
  },
  {
   "cell_type": "code",
   "execution_count": 39,
   "metadata": {},
   "outputs": [
    {
     "name": "stdout",
     "output_type": "stream",
     "text": [
      "2\n",
      " \n",
      "2\n",
      " \n",
      "4\n",
      " \n",
      "4\n",
      " \n",
      "2\n",
      " \n",
      "2\n",
      " \n",
      "4\n",
      " \n",
      "4\n",
      " \n",
      "2\n",
      " \n",
      "2\n",
      " \n",
      "4\n",
      " \n",
      "4\n",
      " \n"
     ]
    },
    {
     "name": "stderr",
     "output_type": "stream",
     "text": [
      "┌ Warning: Transition probabilities sum to 2.0, not 1.\n",
      "│   s = 2\n",
      "│   a = stay\n",
      "└ @ POMDPTesting C:\\Users\\Mike\\.julia\\packages\\POMDPTesting\\yzRbv\\src\\model.jl:51\n",
      "┌ Warning: Transition probabilities sum to 2.0, not 1.\n",
      "│   s = 4\n",
      "│   a = stay\n",
      "└ @ POMDPTesting C:\\Users\\Mike\\.julia\\packages\\POMDPTesting\\yzRbv\\src\\model.jl:51\n"
     ]
    },
    {
     "ename": "AssertionError",
     "evalue": "AssertionError: has_consistent_distributions(m)",
     "output_type": "error",
     "traceback": [
      "AssertionError: has_consistent_distributions(m)",
      "",
      "Stacktrace:",
      " [1] #DiscreteExplicitPOMDP#1(::Set{Any}, ::Type{DiscreteExplicitPOMDP}, ::Array{Int64,1}, ::Array{Symbol,1}, ::Array{Symbol,1}, ::Function, ::typeof(Z), ::Function, ::Float64, ::POMDPModelTools.Uniform{Set{Int64}}) at C:\\Users\\Mike\\.julia\\packages\\QuickPOMDPs\\lfE03\\src\\discrete_explicit.jl:115",
      " [2] DiscreteExplicitPOMDP(::Array{Int64,1}, ::Array{Symbol,1}, ::Array{Symbol,1}, ::Function, ::Function, ::Function, ::Float64, ::POMDPModelTools.Uniform{Set{Int64}}) at C:\\Users\\Mike\\.julia\\packages\\QuickPOMDPs\\lfE03\\src\\discrete_explicit.jl:79 (repeats 2 times)",
      " [3] top-level scope at In[39]:45"
     ]
    }
   ],
   "source": [
    "# S = GroundWatchState(2,4)\n",
    "S = [2,4]\n",
    "# S = [:one, :two, :three]\n",
    "A = [:left, :right, :stay]\n",
    "O = [:yes, :no]\n",
    "γ = 0.95\n",
    "\n",
    "function T(s, a, sp)\n",
    "#     return 0.5\n",
    "    if a == :stay\n",
    "        return 1.0\n",
    "    else \n",
    "        return 0.5 #reset\n",
    "    end\n",
    "end\n",
    "\n",
    "function Z(a, sp, o)\n",
    "#     return 1.0\n",
    "    println(sp)\n",
    "    println(' ')\n",
    "    return 0.25\n",
    "#     if sp[2] == sp[1]\n",
    "#         if o == :yes\n",
    "#             return 0.9\n",
    "#         else\n",
    "#             return 0.1\n",
    "#         end\n",
    "#     else\n",
    "#         if o ==:no\n",
    "#             return 0.8\n",
    "#         else\n",
    "#             return 0.2\n",
    "#         end\n",
    "#     end\n",
    "end\n",
    "\n",
    "function R(s) # need to be based on s and a? or can be based on sp?\n",
    "    return 10.0\n",
    "#     if s.cam == s.target\n",
    "#         return 10.0\n",
    "#     else\n",
    "#         return -1.0\n",
    "#     end\n",
    "end\n",
    "\n",
    "m = DiscreteExplicitPOMDP(S,A,O,T,Z,R,γ)"
   ]
  },
  {
   "cell_type": "code",
   "execution_count": null,
   "metadata": {},
   "outputs": [],
   "source": [
    "S = [:one, :two, :three, :four, :five, :six]\n",
    "A = [:left, :stay, :right]\n",
    "O = [:positive, :negative]\n",
    "γ = 0.99\n",
    "\n",
    "function T(s, a, sp)\n",
    "    if s == :healthy \n",
    "        if sp ==:IsC\n",
    "            return 0.02\n",
    "        elseif sp ==:healthy\n",
    "            return 0.98\n",
    "        else\n",
    "            return 0.0\n",
    "        end\n",
    "    elseif s == :IsC \n",
    "        if a == :treat \n",
    "            if sp ==:healthy\n",
    "                return 0.6\n",
    "            elseif sp == s\n",
    "                return 0.4\n",
    "            else\n",
    "                return 0.0\n",
    "            end\n",
    "        else\n",
    "            if sp ==:InvC\n",
    "                return 0.1\n",
    "            elseif sp == s\n",
    "                return 0.9\n",
    "            else\n",
    "                return 0.0\n",
    "            end\n",
    "        end\n",
    "    elseif s ==:InvC\n",
    "        if a ==:treat\n",
    "            if sp ==:healthy || sp ==:death\n",
    "                return 0.2\n",
    "            elseif sp == s\n",
    "                return 0.6\n",
    "            else\n",
    "                return 0.0\n",
    "            end\n",
    "        else\n",
    "            if sp ==:death\n",
    "                return 0.6\n",
    "            elseif sp == s\n",
    "                return 0.4\n",
    "            else\n",
    "                return 0.0\n",
    "            end\n",
    "        end\n",
    "    elseif s ==:death\n",
    "        if sp == :death\n",
    "            return 1.0\n",
    "        else\n",
    "            return 0.0\n",
    "        end\n",
    "    else\n",
    "        print(\"Should definitely not get here!\")\n",
    "        return 0.0\n",
    "    end\n",
    "end\n",
    "\n",
    "function Z(a, sp, o)\n",
    "    if a == :test && sp ==:healthy\n",
    "        if o == :positive\n",
    "            return 0.05\n",
    "        else\n",
    "            return 0.95\n",
    "        end\n",
    "    elseif a == :test && sp ==:IsC\n",
    "        if o == :positive\n",
    "            return 0.8\n",
    "        else\n",
    "            return 0.2\n",
    "        end\n",
    "    elseif a == :test && sp ==:InvC\n",
    "        if o == :positive\n",
    "            return 1.0\n",
    "        else\n",
    "            return 0.0\n",
    "        end\n",
    "    elseif a == :treat && (sp ==:IsC || sp ==:InvC)\n",
    "        if o == :positive\n",
    "            return 1.0\n",
    "        else\n",
    "            return 0.0\n",
    "        end \n",
    "    else\n",
    "        if o == :negative\n",
    "            return 1.0\n",
    "        else\n",
    "            return 0.0\n",
    "        end\n",
    "    end\n",
    "end\n",
    "\n",
    "function R(s, a)\n",
    "    if s ==:death\n",
    "        return 0.0\n",
    "    elseif a ==:wait\n",
    "        return 1.0\n",
    "    elseif a ==:test\n",
    "        return 0.8\n",
    "    elseif a ==:treat\n",
    "        return 0.1\n",
    "    else\n",
    "        println(\"error error\")\n",
    "        return -99.0\n",
    "    end\n",
    "end\n",
    "\n",
    "b0 = Deterministic(:healthy)\n",
    "m = DiscreteExplicitPOMDP(S,A,O,T,Z,R,γ,b0,terminals=Set([:death]));"
   ]
  },
  {
   "cell_type": "code",
   "execution_count": null,
   "metadata": {},
   "outputs": [],
   "source": [
    "using QuickPOMDPs\n",
    "\n",
    "mountaincar = QuickMDP(\n",
    "    \n",
    "    function (s, a)        \n",
    "        x, v = s\n",
    "        # shouldn't the target not be a part of the state? \n",
    "        \n",
    "        vp = clamp(v + a*0.001 + cos(3*x)*-0.0025, -0.07, 0.07)\n",
    "        xp = x + vp\n",
    "        if xp > 0.5\n",
    "            r = 100.0\n",
    "        else\n",
    "            r = -1.0\n",
    "        end\n",
    "        return (sp=(xp, vp), r=r)\n",
    "    end,\n",
    "    \n",
    "    actions = [-1., 0., 1.],\n",
    "    initialstate = (-0.5, 0.0),\n",
    "    discount = 0.95,\n",
    "    isterminal = s -> s[1] > 0.5\n",
    ")"
   ]
  }
 ],
 "metadata": {
  "@webio": {
   "lastCommId": null,
   "lastKernelId": null
  },
  "kernelspec": {
   "display_name": "Julia 1.3.1",
   "language": "julia",
   "name": "julia-1.3"
  },
  "language_info": {
   "file_extension": ".jl",
   "mimetype": "application/julia",
   "name": "julia",
   "version": "1.3.1"
  }
 },
 "nbformat": 4,
 "nbformat_minor": 2
}
