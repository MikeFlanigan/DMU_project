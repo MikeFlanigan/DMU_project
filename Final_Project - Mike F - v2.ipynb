{
 "cells": [
  {
   "cell_type": "code",
   "execution_count": 1,
   "metadata": {},
   "outputs": [],
   "source": [
    "\n",
    "# using POMDPModels\n",
    "# using POMDPSimulators\n",
    "# using SARSOP\n",
    "# using QMDP\n",
    "# using BasicPOMCP\n",
    "# using DMUStudent\n",
    "\n",
    "using POMDPs\n",
    "using QuickPOMDPs\n",
    "using POMDPModelTools\n",
    "\n",
    "using Random\n",
    "rng = MersenneTwister(1234);"
   ]
  },
  {
   "cell_type": "markdown",
   "metadata": {},
   "source": [
    "## 2D Discrete Representation Experiment\n",
    "\n",
    "Frame the camera search problem in a 2D Discrete world to work out the kinks of a Julia POMDPs implementation."
   ]
  },
  {
   "cell_type": "code",
   "execution_count": 2,
   "metadata": {},
   "outputs": [
    {
     "data": {
      "text/plain": [
       "clamp (generic function with 1 method)"
      ]
     },
     "execution_count": 2,
     "metadata": {},
     "output_type": "execute_result"
    }
   ],
   "source": [
    "# utility functions\n",
    "function zoom_to_FOV(zoom)\n",
    "    \"\"\"This function is currently simple, but later may contain\n",
    "    more complex calculations linking the zoom independent \n",
    "    (controlled) variable to other FOV paramters.\n",
    "    \"\"\"\n",
    "    calc_focal_pt = zoom # just a 1-1 for now in this discrete world\n",
    "    calc_FOV_width = 4 - zoom # an inverse relationship with hardcoded FOV max/min here\n",
    "    return [calc_focal_pt, calc_FOV_width]\n",
    "end\n",
    "\n",
    "function clamp(n, smallest, largest)\n",
    "    \"\"\"Useful clamping function\"\"\"\n",
    "    return max(smallest, min(n, largest))\n",
    "end"
   ]
  },
  {
   "cell_type": "code",
   "execution_count": 5,
   "metadata": {},
   "outputs": [],
   "source": [
    "# define a struct for the relevant problem state information\n",
    "struct GW_state\n",
    "    # camera state information\n",
    "    cam_theta::Int # 1-36\n",
    "    zoom::Int # 1-3\n",
    "    focal_pt::Int # 1-3\n",
    "    FOV_width::Int # 1-3\n",
    "    \n",
    "    # target state information\n",
    "    target_theta::Int # 1-36\n",
    "    target_r::Int # 1-3\n",
    "    theta_dot::Real # ....\n",
    "    r_dot::Int # 1-3\n",
    "    \n",
    "    # found target -- for julia\n",
    "    found::Bool\n",
    "end"
   ]
  },
  {
   "cell_type": "code",
   "execution_count": null,
   "metadata": {},
   "outputs": [],
   "source": [
    "# 36*3*3*3*36*3*5*3\n",
    "# if desicretize and make a list of \n",
    "# methods(observations)"
   ]
  },
  {
   "cell_type": "code",
   "execution_count": 7,
   "metadata": {},
   "outputs": [],
   "source": [
    "struct InitDist end\n",
    "\n",
    "function Base.rand(rng::AbstractRNG, d::InitDist)\n",
    "    # generate a state\n",
    "    i_cam_theta = rand(rng,(1, 36))\n",
    "    i_zoom = rand(rng,(1, 3))\n",
    "    i_focal_pt, i_FOV_width = zoom_to_FOV(i_zoom)\n",
    "    \n",
    "    # target state information\n",
    "    i_target_theta = rand(rng,(1, 36))\n",
    "    i_target_r = rand(rng,(1, 3))\n",
    "    i_theta_dot = 0\n",
    "    i_r_dot = 0\n",
    "    \n",
    "    # terminal\n",
    "    found = false\n",
    "    \n",
    "    init_state = GW_state(\n",
    "        i_cam_theta, i_zoom, i_focal_pt, i_FOV_width,\n",
    "        i_target_theta, i_target_r, i_theta_dot, i_r_dot,\n",
    "        found,\n",
    "    )\n",
    "    return init_state \n",
    "end"
   ]
  },
  {
   "cell_type": "code",
   "execution_count": 9,
   "metadata": {},
   "outputs": [
    {
     "data": {
      "text/plain": [
       "gen (generic function with 1 method)"
      ]
     },
     "execution_count": 9,
     "metadata": {},
     "output_type": "execute_result"
    }
   ],
   "source": [
    "function gen(s, a, rng)\n",
    "    # generate a named tuple with :sp pointing to the new state\n",
    "    \n",
    "    # camera transitions\n",
    "    #############################################################\n",
    "    # need to be a function of zoom to account for speed decrease\n",
    "    # at deep zoom. write up include pix / meter / second at zooms\n",
    "    # aka the below says that the camera can pan faster when it\n",
    "    # is zoomed out, which matches real physics\n",
    "    sp_cam_theta = s.cam_theta\n",
    "    \n",
    "    if a == :left\n",
    "        if s.zoom <= 2\n",
    "            sp_cam_theta += 2\n",
    "        elseif s.zoom > 2\n",
    "            sp_cam_theta += 1\n",
    "        end\n",
    "    elseif a == :stay\n",
    "        # do nothing\n",
    "    elseif a == :right\n",
    "        if s.zoom <= 2\n",
    "            sp_cam_theta -= 2\n",
    "        elseif s.zoom > 2\n",
    "            sp_cam_theta -= 1\n",
    "        end\n",
    "    else\n",
    "        # do nothing\n",
    "    end\n",
    "\n",
    "    # handle wrap around\n",
    "    sp_cam_theta = sp_cam_theta % 36\n",
    "\n",
    "    sp_zoom = s.zoom\n",
    "    # update zoom\n",
    "    if a == :zoom_in\n",
    "        sp_zoom += 1\n",
    "    elseif a == :stay_zoom\n",
    "        # do nothing\n",
    "    elseif a == :zoom_out\n",
    "        sp_zoom -= 1\n",
    "    end\n",
    "    sp_zoom = clamp(sp_zoom, 1, 3)\n",
    "\n",
    "    # update dependent state variables\n",
    "    sp_focal_pt, sp_FOV_width = zoom_to_FOV(sp_zoom)\n",
    "    \n",
    "    # target transitions\n",
    "    #############################################################   \n",
    "    \n",
    "    sp_target_theta = s.target_theta\n",
    "    sp_target_r = s.target_r\n",
    "    sp_theta_dot = s.theta_dot\n",
    "    sp_r_dot = s.r_dot\n",
    "    \n",
    "    moving_target = false\n",
    "    if moving_target\n",
    "        # if want a moving target then add noise to\n",
    "        # velocity to create more realistic motion\n",
    "        \n",
    "        # center at 0 mean\n",
    "        sp_theta_dot += rand(rng) - 0.5 \n",
    "        sp_r_dot += rand(rng) - 0.5 \n",
    "        \n",
    "        # clip to prevent crazy vels\n",
    "        sp_theta_dot = clamp(sp_theta_dot, -1.9, 1.9) \n",
    "        sp_r_dot = clamp(sp_r_dot, -1, 1) \n",
    "        \n",
    "    else\n",
    "        # stationary target\n",
    "        sp_theta_dot = 0\n",
    "        sp_r_dot = 0\n",
    "    end\n",
    "    \n",
    "    # check about terminal state\n",
    "    ##############################################################\n",
    "    sp_found = false\n",
    "    if a == :track\n",
    "        # if in FOV \n",
    "        # TODO: add handling wrap around to this check\n",
    "        if abs(s.cam_theta - s.target_theta) <= ceil(s.FOV_width/2)\n",
    "            sp_found = true # terminal state\n",
    "        end\n",
    "    end\n",
    "    \n",
    "\n",
    "    # update target state\n",
    "    ##############################################################\n",
    "    sp_target_theta += Int(sp_theta_dot)\n",
    "    sp_target_theta = sp_target_theta % 36\n",
    "    sp_target_r += Int(sp_r_dot)\n",
    "    sp_target_r = clamp(sp_target_r, 1,3)\n",
    "\n",
    "    new_state = GW_state(\n",
    "        sp_cam_theta, sp_zoom, sp_focal_pt, sp_FOV_width,\n",
    "        sp_target_theta, sp_target_r, sp_theta_dot, sp_r_dot,\n",
    "        sp_found,\n",
    "    )\n",
    "    \n",
    "    return (sp=new_state,)\n",
    "end"
   ]
  },
  {
   "cell_type": "code",
   "execution_count": 10,
   "metadata": {},
   "outputs": [
    {
     "data": {
      "text/plain": [
       "isterminal (generic function with 1 method)"
      ]
     },
     "execution_count": 10,
     "metadata": {},
     "output_type": "execute_result"
    }
   ],
   "source": [
    "function isterminal(s)\n",
    "    if s.found\n",
    "        return true\n",
    "    else\n",
    "        return false\n",
    "    end\n",
    "end"
   ]
  },
  {
   "cell_type": "code",
   "execution_count": 11,
   "metadata": {},
   "outputs": [
    {
     "data": {
      "text/plain": [
       "observations (generic function with 1 method)"
      ]
     },
     "execution_count": 11,
     "metadata": {},
     "output_type": "execute_result"
    }
   ],
   "source": [
    "# struct ObsDist\n",
    "    \n",
    "# end\n",
    "\n",
    "# Base.rand()\n",
    "# POMDPs.pdf()\n",
    "\n",
    "function observations(s, a, sp)\n",
    "    # should return a POMDPModelTools.BoolDistribution\n",
    "\n",
    "    \"\"\"Returns a boolean observation depending on observation\n",
    "    model probabilities that are state dependent.\n",
    "    \"\"\"\n",
    "    # if in FOV \n",
    "    # TODO: add handling wrap around to this check\n",
    "    if abs(s.cam_theta - s.target_theta) <= ceil(s.FOV_width/2)\n",
    "        # observation based on range\n",
    "        if s.target_r == s.focal_pt \n",
    "            # in FOV and in focal range\n",
    "            # 90% True Positive detection in this case\n",
    "            return POMDPModelTools.BoolDistribution(0.9)\n",
    "        else \n",
    "            # in FOV and not at correct focal range\n",
    "            # 40% True Positive detection in this case\n",
    "            return POMDPModelTools.BoolDistribution(0.4)\n",
    "        end\n",
    "    else\n",
    "        # if not in FOV\n",
    "        # 5% False Positive rate in this case\n",
    "        return POMDPModelTools.BoolDistribution(0.05)\n",
    "    end\n",
    "    # return MvNormal(mean, cov) # Distributions.jl\n",
    "end"
   ]
  },
  {
   "cell_type": "code",
   "execution_count": 12,
   "metadata": {},
   "outputs": [
    {
     "data": {
      "text/plain": [
       "actions (generic function with 1 method)"
      ]
     },
     "execution_count": 12,
     "metadata": {},
     "output_type": "execute_result"
    }
   ],
   "source": [
    "function actions()\n",
    "    # should return a vector of actions available at the state\n",
    "    A = [:left, :stay, :right, :zoom_in, :stay_zoom, :zoom_out, :track]\n",
    "    return A\n",
    "end"
   ]
  },
  {
   "cell_type": "code",
   "execution_count": 13,
   "metadata": {},
   "outputs": [
    {
     "data": {
      "text/plain": [
       "reward (generic function with 1 method)"
      ]
     },
     "execution_count": 13,
     "metadata": {},
     "output_type": "execute_result"
    }
   ],
   "source": [
    "function reward(s, a, sp, anything)\n",
    "    \"\"\"Return a positive reward if the action is to \"Track\"\n",
    "    and a target is in the FOV.\n",
    "    Track = begin a track since a target is confidently detected.\n",
    "    Return a negative reward if the action is to \"Track\" but\n",
    "    the target is not in the FOV.\n",
    "    \"\"\"\n",
    "\n",
    "    if a == :track\n",
    "        # if in FOV \n",
    "        # TODO: add handling wrap around to this check\n",
    "        if abs(s.cam_theta - s.target_theta) <= ceil(s.FOV_width/2)\n",
    "            return 10.0 # and terminal state\n",
    "        else\n",
    "            return -1.0\n",
    "        end\n",
    "    else\n",
    "        return 0.0\n",
    "    end\n",
    "end"
   ]
  },
  {
   "cell_type": "code",
   "execution_count": 14,
   "metadata": {},
   "outputs": [
    {
     "data": {
      "text/plain": [
       "QuickPOMDP{UUID(\"03f1591e-f528-4ce6-b5c0-daa543ddd698\"),GW_state,Symbol,Bool,NamedTuple{(:isterminal, :statetype, :discount, :gen, :actions, :initialstate_distribution, :observation, :obstype, :actionindex, :reward, :initialstate),Tuple{typeof(isterminal),DataType,Float64,typeof(gen),typeof(actions),InitDist,typeof(observations),DataType,Dict{Symbol,Int64},typeof(reward),QuickPOMDPs.var\"#17#21\"{Dict{Symbol,Any}}}}}((isterminal = isterminal, statetype = GW_state, discount = 1.0, gen = gen, actions = actions, initialstate_distribution = InitDist(), observation = observations, obstype = Bool, actionindex = Dict(:left => 1,:right => 3,:stay => 2,:zoom_out => 6,:stay_zoom => 5,:track => 7,:zoom_in => 4), reward = reward, initialstate = QuickPOMDPs.var\"#17#21\"{Dict{Symbol,Any}}(Dict{Symbol,Any}(:isterminal => isterminal,:statetype => GW_state,:discount => 1.0,:gen => gen,:actions => actions,:initialstate_distribution => InitDist(),:observation => observations,:obstype => Bool,:actionindex => Dict(:left => 1,:right => 3,:stay => 2,:zoom_out => 6,:stay_zoom => 5,:track => 7,:zoom_in => 4),:reward => reward…))))"
      ]
     },
     "execution_count": 14,
     "metadata": {},
     "output_type": "execute_result"
    }
   ],
   "source": [
    "# define the QuickPOMDP\n",
    "m = QuickPOMDP(\n",
    "#     states=GW_state,\n",
    "    statetype=GW_state,\n",
    "    gen=gen,\n",
    "    # initialstate=initialstate,\n",
    "    initialstate_distribution=InitDist(),\n",
    "    observation=observations,\n",
    "    obstype=Bool,\n",
    "#     obstype=Array / Tuple{Bool, Float}, # for multi parameter observation return\n",
    "    actions=actions,\n",
    "    reward=reward,\n",
    "    isterminal=isterminal,\n",
    ")\n"
   ]
  },
  {
   "cell_type": "code",
   "execution_count": null,
   "metadata": {},
   "outputs": [],
   "source": [
    "using POMDPModels\n",
    "using QMDP\n",
    "solver = QMDPSolver()"
   ]
  },
  {
   "cell_type": "code",
   "execution_count": null,
   "metadata": {
    "scrolled": true
   },
   "outputs": [],
   "source": [
    "qmdp_policy = solve(solver, m)"
   ]
  },
  {
   "cell_type": "code",
   "execution_count": 15,
   "metadata": {},
   "outputs": [
    {
     "name": "stderr",
     "output_type": "stream",
     "text": [
      "┌ Info: Precompiling POMDPPolicies [182e52fb-cfd0-5e46-8c26-fd0667c990f4]\n",
      "└ @ Base loading.jl:1273\n"
     ]
    }
   ],
   "source": [
    "using POMDPPolicies # For creating a random policy"
   ]
  },
  {
   "cell_type": "code",
   "execution_count": 16,
   "metadata": {},
   "outputs": [],
   "source": [
    "# Create a policy that chooses actions at random\n",
    "rand_policy = RandomPolicy(m);"
   ]
  },
  {
   "cell_type": "code",
   "execution_count": 17,
   "metadata": {},
   "outputs": [
    {
     "data": {
      "text/plain": [
       "FunctionPolicy{var\"#3#4\"}(var\"#3#4\"())"
      ]
     },
     "execution_count": 17,
     "metadata": {},
     "output_type": "execute_result"
    }
   ],
   "source": [
    "simple_policy = FunctionPolicy(\n",
    "    function(o) # how do you give the function policy the PO state too? \n",
    "#         print(o)\n",
    "#         print(s)\n",
    "        if o == true\n",
    "            return :track\n",
    "        elseif rand() < 0.8\n",
    "            return :left\n",
    "        else\n",
    "            return :zoom_out\n",
    "        end\n",
    "    end\n",
    ")"
   ]
  },
  {
   "cell_type": "code",
   "execution_count": 24,
   "metadata": {},
   "outputs": [],
   "source": [
    "# Create and run the rollout simulator\n",
    "using POMDPSimulators\n",
    "rollout_sim = RolloutSimulator(max_steps=200);"
   ]
  },
  {
   "cell_type": "code",
   "execution_count": 25,
   "metadata": {},
   "outputs": [],
   "source": [
    "# fib_reward = simulate(rollout_sim, m, fib_policy);\n",
    "rand_reward = simulate(rollout_sim, m, rand_policy);\n",
    "simp_reward = simulate(rollout_sim, m, simple_policy);"
   ]
  },
  {
   "cell_type": "code",
   "execution_count": 26,
   "metadata": {},
   "outputs": [
    {
     "name": "stdout",
     "output_type": "stream",
     "text": [
      "rand_reward = 10.0\n",
      "simp_reward = 9.0\n"
     ]
    }
   ],
   "source": [
    "\n",
    "# @show fib_reward;\n",
    "@show rand_reward;\n",
    "@show simp_reward;"
   ]
  },
  {
   "cell_type": "code",
   "execution_count": 29,
   "metadata": {},
   "outputs": [
    {
     "name": "stdout",
     "output_type": "stream",
     "text": [
      "rand_reward = 4773.0\n",
      "simp_reward = 7347.0\n"
     ]
    }
   ],
   "source": [
    "rand_reward = 0.0\n",
    "N = 1000\n",
    "for i in 1:N\n",
    "    sim = RolloutSimulator(max_steps=200)\n",
    "    rand_reward += simulate(sim, m, rand_policy)\n",
    "end\n",
    "\n",
    "@show rand_reward;\n",
    "\n",
    "simp_reward = 0.0\n",
    "N = 1000\n",
    "for i in 1:N\n",
    "    sim = RolloutSimulator(max_steps=200)\n",
    "    simp_reward += simulate(sim, m, simple_policy)\n",
    "end\n",
    "\n",
    "@show simp_reward;"
   ]
  },
  {
   "cell_type": "code",
   "execution_count": null,
   "metadata": {},
   "outputs": [],
   "source": [
    "# POWCPOW could work with this setup\n",
    "# solvers like QMDP and FIB require tabularized everything possible.. \n",
    "# POMCP\n",
    "\n",
    "# per\n",
    "\n",
    "# "
   ]
  },
  {
   "cell_type": "markdown",
   "metadata": {},
   "source": [
    "# TODO\n",
    "- try out various solvers and try to find one that will work on this definition. Eg. POMCPOW. POMCP. maybe QMDP.\n",
    "- I think I'll need to add a belief updater to those ^^ algs to be able to use them\n",
    "- performance, add type decs to GW_state struct\n",
    "- figure out how to get the observable part of the state into the simple heuristic function?\n",
    "\n",
    "# Questions\n",
    "- How to manually update the belief? \n",
    "- How is a julia pomdps policy parameterized/stored? --- like in terms of parameters...\n",
    "\n",
    "# Shelf\n",
    "- Adding extra parameters in the observation. In real life, could have that be a heuristic chunk of the search problem. Damn. Would've been so cool to really build this system out for real... the D4D system.\n",
    "\n",
    "# Done\n",
    "- run MC sims on random and simple to show working\n",
    "- define terminal state\n"
   ]
  }
 ],
 "metadata": {
  "@webio": {
   "lastCommId": null,
   "lastKernelId": null
  },
  "kernelspec": {
   "display_name": "Julia 1.3.1",
   "language": "julia",
   "name": "julia-1.3"
  },
  "language_info": {
   "file_extension": ".jl",
   "mimetype": "application/julia",
   "name": "julia",
   "version": "1.3.1"
  }
 },
 "nbformat": 4,
 "nbformat_minor": 2
}
