{
 "cells": [
  {
   "cell_type": "code",
   "execution_count": 36,
   "metadata": {},
   "outputs": [],
   "source": [
    "# using POMDPs\n",
    "# using POMDPModels\n",
    "# using POMDPSimulators\n",
    "# using SARSOP\n",
    "# using QMDP\n",
    "# using BasicPOMCP\n",
    "# using DMUStudent\n",
    "\n",
    "using QuickPOMDPs\n",
    "using POMDPModelTools\n",
    "\n",
    "using Random\n",
    "rng = MersenneTwister(1234);"
   ]
  },
  {
   "cell_type": "markdown",
   "metadata": {},
   "source": [
    "## 2D Discrete Representation Experiment\n",
    "\n",
    "Frame the camera search problem in a 2D Discrete world to work out the kinks of a Julia POMDPs implementation."
   ]
  },
  {
   "cell_type": "code",
   "execution_count": 2,
   "metadata": {},
   "outputs": [
    {
     "data": {
      "text/plain": [
       "clamp (generic function with 1 method)"
      ]
     },
     "execution_count": 2,
     "metadata": {},
     "output_type": "execute_result"
    }
   ],
   "source": [
    "# utility functions\n",
    "function zoom_to_FOV(zoom)\n",
    "    \"\"\"This function is currently simple, but later may contain\n",
    "    more complex calculations linking the zoom independent \n",
    "    (controlled) variable to other FOV paramters.\n",
    "    \"\"\"\n",
    "    calc_focal_pt = zoom # just a 1-1 for now in this discrete world\n",
    "    calc_FOV_width = 4 - zoom # an inverse relationship with hardcoded FOV max/min here\n",
    "    return [calc_focal_pt, calc_FOV_width]\n",
    "end\n",
    "\n",
    "function clamp(n, smallest, largest)\n",
    "    \"\"\"Useful clamping function\"\"\"\n",
    "    return max(smallest, min(n, largest))\n",
    "end"
   ]
  },
  {
   "cell_type": "code",
   "execution_count": 3,
   "metadata": {},
   "outputs": [],
   "source": [
    "# define a struct for the relevant problem state information\n",
    "struct GW_state\n",
    "    # camera state information\n",
    "    cam_theta\n",
    "    zoom\n",
    "    focal_pt\n",
    "    FOV_width\n",
    "    \n",
    "    # target state information\n",
    "    target_theta\n",
    "    target_r\n",
    "    theta_dot\n",
    "    r_dot\n",
    "end"
   ]
  },
  {
   "cell_type": "code",
   "execution_count": 41,
   "metadata": {},
   "outputs": [
    {
     "data": {
      "text/plain": [
       "initialstate (generic function with 1 method)"
      ]
     },
     "execution_count": 41,
     "metadata": {},
     "output_type": "execute_result"
    }
   ],
   "source": [
    "function initialstate(rng)\n",
    "    # generate a state\n",
    "    i_cam_theta = rand(rng,(1, 36))\n",
    "    i_zoom = rand(rng,(1, 3))\n",
    "    i_focal_pt, i_FOV_width = zoom_to_FOV(i_zoom)\n",
    "    \n",
    "    # target state information\n",
    "    i_target_theta = rand(rng,(1, 36))\n",
    "    i_target_r = rand(rng,(1, 3))\n",
    "    i_theta_dot = 0\n",
    "    i_r_dot = 0\n",
    "    \n",
    "    init_state = GW_state(\n",
    "        i_cam_theta, i_zoom, i_focal_pt, i_FOV_width,\n",
    "        i_target_theta, i_target_r, i_theta_dot, i_r_dot,\n",
    "    )\n",
    "    return init_state \n",
    "end"
   ]
  },
  {
   "cell_type": "code",
   "execution_count": 5,
   "metadata": {},
   "outputs": [
    {
     "data": {
      "text/plain": [
       "gen (generic function with 1 method)"
      ]
     },
     "execution_count": 5,
     "metadata": {},
     "output_type": "execute_result"
    }
   ],
   "source": [
    "function gen(s, a, rng)\n",
    "    # generate a named tuple with :sp pointing to the new state\n",
    "    \n",
    "    # camera transitions\n",
    "    #############################################################\n",
    "    # need to be a function of zoom to account for speed decrease\n",
    "    # at deep zoom. write up include pix / meter / second at zooms\n",
    "    # aka the below says that the camera can pan faster when it\n",
    "    # is zoomed out, which matches real physics\n",
    "    if a == :left\n",
    "        if s.zoom <= 2\n",
    "            sp_cam_theta += 2\n",
    "        elseif s.zoom > 2\n",
    "            sp_cam_theta += 1\n",
    "        end\n",
    "    elseif a == :stay\n",
    "        # do nothing\n",
    "    elseif a == :right\n",
    "        if s.zoom <= 2\n",
    "            sp_cam_theta -= 2\n",
    "        elseif s.zoom > 2\n",
    "            sp_cam_theta -= 1\n",
    "        end\n",
    "    else\n",
    "        # do nothing\n",
    "    end\n",
    "\n",
    "    # handle wrap around\n",
    "    sp_cam_theta = sp_cam_theta % 36\n",
    "\n",
    "    # update zoom\n",
    "    if a == :zoom_in\n",
    "        sp_zoom += 1\n",
    "    elseif a == :stay_zoom\n",
    "        # do nothing\n",
    "    elseif a == :zoom_out\n",
    "        sp_zoom -= 1\n",
    "    end\n",
    "    sp_zoom = clamp(sp_zoom, 1, 3)\n",
    "\n",
    "    # update dependent state variables\n",
    "    sp_focal_pt, sp_FOV_width = zoom_to_FOV(sp_zoom)\n",
    "    \n",
    "    # target transitions\n",
    "    #############################################################   \n",
    "    \n",
    "    moving_target = false\n",
    "    if moving_target\n",
    "        # if want a moving target then add noise to\n",
    "        # velocity to create more realistic motion\n",
    "        \n",
    "        # center at 0 mean\n",
    "        sp_theta_dot += rand(rng) - 0.5 \n",
    "        sp_r_dot += rand(rng) - 0.5 \n",
    "        \n",
    "        # clip to prevent crazy vels\n",
    "        sp_theta_dot = clamp(sp_theta_dot, -1.9, 1.9) \n",
    "        sp_r_dot = clamp(sp_r_dot, -1, 1) \n",
    "        \n",
    "    else\n",
    "        # stationary target\n",
    "        sp_theta_dot = 0\n",
    "        sp_r_dot = 0\n",
    "    end\n",
    "\n",
    "    # update target state\n",
    "    sp_target_theta += int(sp_theta_dot)\n",
    "    sp_target_theta = sp_target_theta % 36\n",
    "    sp_target_r += int(sp_r_dot)\n",
    "    sp_target_r = clamp(sp_target_r, 1,3)\n",
    "\n",
    "    new_state = GW_state(\n",
    "        sp_cam_theta, sp_zoom, sp_focal_pt, sp_FOV_width,\n",
    "        sp_target_theta, sp_target_r, sp_theta_dot, sp_r_dot,\n",
    "    )\n",
    "    return (sp=new_state,)\n",
    "end"
   ]
  },
  {
   "cell_type": "code",
   "execution_count": 6,
   "metadata": {},
   "outputs": [
    {
     "data": {
      "text/plain": [
       "observations (generic function with 1 method)"
      ]
     },
     "execution_count": 6,
     "metadata": {},
     "output_type": "execute_result"
    }
   ],
   "source": [
    "function observations(s, a, sp)\n",
    "    # should return a POMDPModelTools.BoolDistribution\n",
    "\n",
    "    \"\"\"Returns a boolean observation depending on observation\n",
    "    model probabilities that are state dependent.\n",
    "    \"\"\"\n",
    "    # if in FOV \n",
    "    # TODO: add handling wrap around to this check\n",
    "    if abs(s.cam_theta - s.target_theta) <= ceil(s.FOV_width/2)\n",
    "        # observation based on range\n",
    "        if s.target_r == s.focal_pt \n",
    "            # in FOV and in focal range\n",
    "            # 90% True Positive detection in this case\n",
    "            return POMDPModelTools.BoolDistribution(0.9)\n",
    "        else \n",
    "            # in FOV and not at correct focal range\n",
    "            # 40% True Positive detection in this case\n",
    "            return POMDPModelTools.BoolDistribution(0.4)\n",
    "        end\n",
    "    else\n",
    "        # if not in FOV\n",
    "        # 5% False Positive rate in this case\n",
    "        return POMDPModelTools.BoolDistribution(0.05)\n",
    "    end\n",
    "end"
   ]
  },
  {
   "cell_type": "code",
   "execution_count": 11,
   "metadata": {},
   "outputs": [
    {
     "data": {
      "text/plain": [
       "actions (generic function with 2 methods)"
      ]
     },
     "execution_count": 11,
     "metadata": {},
     "output_type": "execute_result"
    }
   ],
   "source": [
    "function actions()\n",
    "    # should return a vector of actions available at the state\n",
    "    A = [:left, :stay, :right, :zoom_in, :stay_zoom, :zoom_out, :track]\n",
    "    return A\n",
    "end"
   ]
  },
  {
   "cell_type": "code",
   "execution_count": 8,
   "metadata": {},
   "outputs": [
    {
     "data": {
      "text/plain": [
       "reward (generic function with 1 method)"
      ]
     },
     "execution_count": 8,
     "metadata": {},
     "output_type": "execute_result"
    }
   ],
   "source": [
    "function reward(s, a, sp)\n",
    "    \"\"\"Return a positive reward if the action is to \"Track\"\n",
    "    and a target is in the FOV.\n",
    "    Track = begin a track since a target is confidently detected.\n",
    "    Return a negative reward if the action is to \"Track\" but\n",
    "    the target is not in the FOV.\n",
    "    \"\"\"\n",
    "\n",
    "    if a == :track\n",
    "        # if in FOV \n",
    "        # TODO: add handling wrap around to this check\n",
    "        if abs(s.cam_theta - s.target_theta) <= ceil(s.FOV_width/2)\n",
    "            return 10.0 # and terminal state\n",
    "        else\n",
    "            return -1.0\n",
    "        end\n",
    "    else\n",
    "        return 0.0\n",
    "    end\n",
    "end"
   ]
  },
  {
   "cell_type": "code",
   "execution_count": 43,
   "metadata": {},
   "outputs": [
    {
     "data": {
      "text/plain": [
       "QuickPOMDP{UUID(\"c3e535ab-69b2-49cc-8eeb-c44e38afff51\"),GW_state,Symbol,BoolDistribution,NamedTuple{(:isterminal, :actionindex, :initialstate, :reward, :gen, :actions, :discount, :obstype, :observation),Tuple{Bool,Dict{Symbol,Int64},typeof(initialstate),typeof(reward),typeof(gen),typeof(actions),Float64,DataType,typeof(observations)}}}((isterminal = false, actionindex = Dict(:left => 1,:right => 3,:stay => 2,:zoom_out => 6,:stay_zoom => 5,:track => 7,:zoom_in => 4), initialstate = initialstate, reward = reward, gen = gen, actions = actions, discount = 1.0, obstype = BoolDistribution, observation = observations))"
      ]
     },
     "execution_count": 43,
     "metadata": {},
     "output_type": "execute_result"
    }
   ],
   "source": [
    "# define the QuickPOMDP\n",
    "m = QuickPOMDP(\n",
    "#     states=GW_state,\n",
    "    gen=gen,\n",
    "    initialstate=initialstate,\n",
    "    observation=observations,\n",
    "    obstype=POMDPModelTools.BoolDistribution,\n",
    "    actions=actions,\n",
    "    reward=reward,\n",
    ")\n"
   ]
  },
  {
   "cell_type": "code",
   "execution_count": 24,
   "metadata": {},
   "outputs": [],
   "source": [
    "using FIB # For the solver\n",
    "using POMDPPolicies # For creating a random policy"
   ]
  },
  {
   "cell_type": "code",
   "execution_count": 25,
   "metadata": {},
   "outputs": [
    {
     "data": {
      "text/plain": [
       "FIBSolver(100, 0.001, false)"
      ]
     },
     "execution_count": 25,
     "metadata": {},
     "output_type": "execute_result"
    }
   ],
   "source": [
    "# Define the FIB Solver with default params\n",
    "solver = FIBSolver()"
   ]
  },
  {
   "cell_type": "code",
   "execution_count": 44,
   "metadata": {},
   "outputs": [
    {
     "ename": "MissingQuickArgument",
     "evalue": "No definition of \"states\" for a QuickPOMDP (id=c3e535ab-69b2-49cc-8eeb-c44e38afff51).\n\nPlease specify it with a `states` keyword argument in the QuickPOMDP constructor.\n\n",
     "output_type": "error",
     "traceback": [
      "No definition of \"states\" for a QuickPOMDP (id=c3e535ab-69b2-49cc-8eeb-c44e38afff51).\n\nPlease specify it with a `states` keyword argument in the QuickPOMDP constructor.\n\n",
      "",
      "Stacktrace:",
      " [1] (::QuickPOMDPs.var\"#25#26\"{:states,QuickPOMDP{UUID(\"c3e535ab-69b2-49cc-8eeb-c44e38afff51\"),GW_state,Symbol,BoolDistribution,NamedTuple{(:isterminal, :actionindex, :initialstate, :reward, :gen, :actions, :discount, :obstype, :observation),Tuple{Bool,Dict{Symbol,Int64},typeof(initialstate),typeof(reward),typeof(gen),typeof(actions),Float64,DataType,typeof(observations)}}}})() at C:\\Users\\Mike\\.julia\\packages\\QuickPOMDPs\\lfE03\\src\\quick.jl:177",
      " [2] get(::QuickPOMDPs.var\"#25#26\"{:states,QuickPOMDP{UUID(\"c3e535ab-69b2-49cc-8eeb-c44e38afff51\"),GW_state,Symbol,BoolDistribution,NamedTuple{(:isterminal, :actionindex, :initialstate, :reward, :gen, :actions, :discount, :obstype, :observation),Tuple{Bool,Dict{Symbol,Int64},typeof(initialstate),typeof(reward),typeof(gen),typeof(actions),Float64,DataType,typeof(observations)}}}}, ::NamedTuple{(:isterminal, :actionindex, :initialstate, :reward, :gen, :actions, :discount, :obstype, :observation),Tuple{Bool,Dict{Symbol,Int64},typeof(initialstate),typeof(reward),typeof(gen),typeof(actions),Float64,DataType,typeof(observations)}}, ::Symbol) at .\\namedtuple.jl:284",
      " [3] _call(::Val{:states}, ::QuickPOMDP{UUID(\"c3e535ab-69b2-49cc-8eeb-c44e38afff51\"),GW_state,Symbol,BoolDistribution,NamedTuple{(:isterminal, :actionindex, :initialstate, :reward, :gen, :actions, :discount, :obstype, :observation),Tuple{Bool,Dict{Symbol,Int64},typeof(initialstate),typeof(reward),typeof(gen),typeof(actions),Float64,DataType,typeof(observations)}}}, ::Tuple{}, ::Base.Iterators.Pairs{Union{},Union{},Tuple{},NamedTuple{(),Tuple{}}}) at C:\\Users\\Mike\\.julia\\packages\\QuickPOMDPs\\lfE03\\src\\quick.jl:175",
      " [4] #states#29(::Base.Iterators.Pairs{Union{},Union{},Tuple{},NamedTuple{(),Tuple{}}}, ::typeof(POMDPs.states), ::QuickPOMDP{UUID(\"c3e535ab-69b2-49cc-8eeb-c44e38afff51\"),GW_state,Symbol,BoolDistribution,NamedTuple{(:isterminal, :actionindex, :initialstate, :reward, :gen, :actions, :discount, :obstype, :observation),Tuple{Bool,Dict{Symbol,Int64},typeof(initialstate),typeof(reward),typeof(gen),typeof(actions),Float64,DataType,typeof(observations)}}}) at C:\\Users\\Mike\\.julia\\packages\\QuickPOMDPs\\lfE03\\src\\quick.jl:189",
      " [5] states at C:\\Users\\Mike\\.julia\\packages\\QuickPOMDPs\\lfE03\\src\\quick.jl:189 [inlined]",
      " [6] ordered_states(::QuickPOMDP{UUID(\"c3e535ab-69b2-49cc-8eeb-c44e38afff51\"),GW_state,Symbol,BoolDistribution,NamedTuple{(:isterminal, :actionindex, :initialstate, :reward, :gen, :actions, :discount, :obstype, :observation),Tuple{Bool,Dict{Symbol,Int64},typeof(initialstate),typeof(reward),typeof(gen),typeof(actions),Float64,DataType,typeof(observations)}}}) at C:\\Users\\Mike\\.julia\\packages\\POMDPModelTools\\R58YX\\src\\ordered_spaces.jl:19",
      " [7] #solve#2(::Base.Iterators.Pairs{Union{},Union{},Tuple{},NamedTuple{(),Tuple{}}}, ::typeof(solve), ::FIBSolver, ::QuickPOMDP{UUID(\"c3e535ab-69b2-49cc-8eeb-c44e38afff51\"),GW_state,Symbol,BoolDistribution,NamedTuple{(:isterminal, :actionindex, :initialstate, :reward, :gen, :actions, :discount, :obstype, :observation),Tuple{Bool,Dict{Symbol,Int64},typeof(initialstate),typeof(reward),typeof(gen),typeof(actions),Float64,DataType,typeof(observations)}}}) at C:\\Users\\Mike\\.julia\\packages\\FIB\\6ArG5\\src\\vanilla.jl:17",
      " [8] solve(::FIBSolver, ::QuickPOMDP{UUID(\"c3e535ab-69b2-49cc-8eeb-c44e38afff51\"),GW_state,Symbol,BoolDistribution,NamedTuple{(:isterminal, :actionindex, :initialstate, :reward, :gen, :actions, :discount, :obstype, :observation),Tuple{Bool,Dict{Symbol,Int64},typeof(initialstate),typeof(reward),typeof(gen),typeof(actions),Float64,DataType,typeof(observations)}}}) at C:\\Users\\Mike\\.julia\\packages\\FIB\\6ArG5\\src\\vanilla.jl:13",
      " [9] top-level scope at In[44]:1"
     ]
    }
   ],
   "source": [
    "# Solve the problem offline and obtain the FIB policy which is an AlphaVectorPolicy\n",
    "fib_policy = solve(solver, m)"
   ]
  },
  {
   "cell_type": "code",
   "execution_count": 28,
   "metadata": {},
   "outputs": [],
   "source": [
    "# Create a policy that chooses actions at random\n",
    "rand_policy = RandomPolicy(m);"
   ]
  },
  {
   "cell_type": "code",
   "execution_count": 45,
   "metadata": {},
   "outputs": [],
   "source": [
    "# Create and run the rollout simulator\n",
    "using POMDPSimulators\n",
    "rollout_sim = RolloutSimulator(max_steps=10);"
   ]
  },
  {
   "cell_type": "code",
   "execution_count": 51,
   "metadata": {},
   "outputs": [
    {
     "ename": "UndefVarError",
     "evalue": "UndefVarError: simulate not defined",
     "output_type": "error",
     "traceback": [
      "UndefVarError: simulate not defined",
      "",
      "Stacktrace:",
      " [1] top-level scope at In[51]:1"
     ]
    }
   ],
   "source": [
    "# fib_reward = simulate(rollout_sim, m, fib_policy);\n",
    "rand_reward = simulate(rollout_sim, m, rand_policy);"
   ]
  },
  {
   "cell_type": "code",
   "execution_count": null,
   "metadata": {},
   "outputs": [],
   "source": [
    "\n",
    "@show fib_reward;\n",
    "@show rand_reward;"
   ]
  }
 ],
 "metadata": {
  "@webio": {
   "lastCommId": null,
   "lastKernelId": null
  },
  "kernelspec": {
   "display_name": "Julia 1.3.1",
   "language": "julia",
   "name": "julia-1.3"
  },
  "language_info": {
   "file_extension": ".jl",
   "mimetype": "application/julia",
   "name": "julia",
   "version": "1.3.1"
  }
 },
 "nbformat": 4,
 "nbformat_minor": 2
}
